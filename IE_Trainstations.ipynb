{
 "cells": [
  {
   "cell_type": "markdown",
   "metadata": {},
   "source": [
    "Get a JSON file recording all the stations in the UK and Ireland, and\n",
    "their lat/long coordinates, then save as a CSV file for Power BI.\n",
    "\n",
    "Based on data from:\n",
    "\n",
    "*   Trainline EU (Great Britain):\n",
    "    https://github.com/trainline-eu/stations\n",
    "\n",
    "*   Wikipedia (Ireland/Northern Ireland):\n",
    "    https://en.wikipedia.org/wiki/List_of_railway_stations_in_Ireland"
   ]
  },
  {
   "cell_type": "code",
   "execution_count": 13,
   "metadata": {},
   "outputs": [],
   "source": [
    "import csv\n",
    "import gzip # compress file\n",
    "import io # dealing with various types of Import and Output \n",
    "import json # import the built in json module that provides functions and classes to work with JSON data\n",
    "import re # provides functions and methods to perform pattern-based matching and manipulation of strings using regular expressions\n",
    "from urllib.request import urlretrieve # he urlretrieve function is used to retrieve data from a URL and save it locally. It's part of Python's standard library and is useful for downloading files from the internet programmatically.\n",
    "import bs4"
   ]
  },
  {
   "cell_type": "code",
   "execution_count": 14,
   "metadata": {},
   "outputs": [],
   "source": [
    "# Generate every row in the Trainline EU database\n",
    "def get_trainline_csv_rows():\n",
    "    filename, _ = urlretrieve(\n",
    "        \"https://raw.githubusercontent.com/trainline-eu/stations/master/stations.csv\"\n",
    "    )\n",
    "\n",
    "    with open(filename, encoding='utf-8') as infile:\n",
    "        reader = csv.DictReader(infile, delimiter=\";\")\n",
    "\n",
    "        for row in reader:\n",
    "            yield row"
   ]
  },
  {
   "cell_type": "code",
   "execution_count": 15,
   "metadata": {},
   "outputs": [],
   "source": [
    "# Generate every row from the Wikipedia's page named \"List of railway stations in Ireland\"\n",
    "def get_wikipedia_rows():\n",
    "    filename, _ = urlretrieve(\n",
    "        \"https://en.wikipedia.org/wiki/List_of_railway_stations_in_Ireland\"\n",
    "    )\n",
    "\n",
    "    with open(filename, encoding='utf-8') as infile:\n",
    "        soup = bs4.BeautifulSoup(infile.read(), \"html.parser\")\n",
    "\n",
    "        table = soup.find(\"table\", attrs={\"class\": \"wikitable\"})\n",
    "\n",
    "        rows = iter(table.find_all(\"tr\"))\n",
    "\n",
    "        field_names = [th_tag.text.strip() for th_tag in next(rows).find_all(\"th\")]\n",
    "        print(\"Field names from Wikipedia:\", field_names)\n",
    "\n",
    "        for row in rows:\n",
    "            yield dict(\n",
    "                zip(field_names, [td_tag.text.strip() for td_tag in row.find_all(\"td\")])\n",
    "            )"
   ]
  },
  {
   "cell_type": "code",
   "execution_count": 16,
   "metadata": {},
   "outputs": [],
   "source": [
    "# Format the full address from available information\n",
    "def format_address(row):\n",
    "    address_parts = [row.get(\"name\"), row.get(\"city\"), row.get(\"country\")]\n",
    "    return \", \".join(part for part in address_parts if part)"
   ]
  },
  {
   "cell_type": "code",
   "execution_count": 17,
   "metadata": {},
   "outputs": [
    {
     "name": "stdout",
     "output_type": "stream",
     "text": [
      "Field names from Wikipedia: ['Irish name', 'English name', 'Coordinates', 'Station code', 'Station ID', 'Location']\n",
      " stations.csv created successfully\n"
     ]
    }
   ],
   "source": [
    "# Get only the stations in Ireland (IE)\n",
    "if __name__ == \"__main__\":\n",
    "    stations = []\n",
    "\n",
    "    for row in get_trainline_csv_rows():\n",
    "        if row[\"country\"] != \"IE\":\n",
    "            continue\n",
    "\n",
    "        coords = [row[\"longitude\"], row[\"latitude\"]]\n",
    "\n",
    "        if coords == [\"\", \"\"]:\n",
    "            print(f\"⚠️ No coordinates for {row['name']}\")\n",
    "            from pprint import pprint\n",
    "            pprint(row)\n",
    "            continue\n",
    "\n",
    "        stations.append({\n",
    "            \"name\": row[\"name\"],\n",
    "            \"address\": format_address(row),\n",
    "            \"latitude\": row[\"latitude\"],\n",
    "            \"longitude\": row[\"longitude\"]\n",
    "        })\n",
    "\n",
    "    for row in get_wikipedia_rows():\n",
    "        # Filter for stations in both Northern Ireland and Republic of Ireland\n",
    "        if row.get(\"Location\") not in {\"Northern Ireland\", \"Republic of Ireland\"}:\n",
    "            continue\n",
    "\n",
    "        names = [row.get(\"Irish name\"), row.get(\"English Name\")]\n",
    "\n",
    "        if not names[0] or not names[1]:\n",
    "            continue\n",
    "\n",
    "        names = [name.strip() for name in names]\n",
    "\n",
    "        long_lat_coords = row[\"Coordinates\"].split(\"/\")[-1].strip()\n",
    "        match = re.match(\n",
    "            r\"^(?P<longitude>-?\\d+\\.\\d+); (?P<latitude>-?\\d+\\.\\d+)$\", long_lat_coords\n",
    "        )\n",
    "        assert match is not None, long_lat_coords\n",
    "\n",
    "        stations.append({\n",
    "            \"name\": \"/\".join(names),\n",
    "            \"address\": \"/\".join(names) + \", \" + row.get(\"Location\"),\n",
    "            \"latitude\": match.group(\"latitude\"),\n",
    "            \"longitude\": match.group(\"longitude\")\n",
    "        })\n",
    "\n",
    "    with open(\"stations.csv\", \"w\", newline='', encoding='utf-8') as csvfile:\n",
    "        fieldnames = [\"name\", \"address\", \"latitude\", \"longitude\"]\n",
    "        writer = csv.DictWriter(csvfile, fieldnames=fieldnames)\n",
    "\n",
    "        writer.writeheader()\n",
    "        for station in stations:\n",
    "            writer.writerow(station)\n",
    "\n",
    "    print(\" stations.csv created successfully\")"
   ]
  }
 ],
 "metadata": {
  "kernelspec": {
   "display_name": "Python 3",
   "language": "python",
   "name": "python3"
  },
  "language_info": {
   "codemirror_mode": {
    "name": "ipython",
    "version": 3
   },
   "file_extension": ".py",
   "mimetype": "text/x-python",
   "name": "python",
   "nbconvert_exporter": "python",
   "pygments_lexer": "ipython3",
   "version": "3.12.2"
  }
 },
 "nbformat": 4,
 "nbformat_minor": 2
}
